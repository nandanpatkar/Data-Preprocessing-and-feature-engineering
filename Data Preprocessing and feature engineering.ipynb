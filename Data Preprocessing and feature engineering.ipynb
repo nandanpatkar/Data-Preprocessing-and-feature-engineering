{
  "cells": [
    {
      "cell_type": "markdown",
      "metadata": {
        "id": "view-in-github",
        "colab_type": "text"
      },
      "source": [
        "<a href=\"https://colab.research.google.com/github/nandanpatkar/Data-Preprocessing-and-feature-engineering/blob/main/Data%20Preprocessing%20and%20feature%20engineering.ipynb\" target=\"_parent\"><img src=\"https://colab.research.google.com/assets/colab-badge.svg\" alt=\"Open In Colab\"/></a>"
      ]
    },
    {
      "cell_type": "code",
      "source": [
        "import numpy as np\n",
        "import pandas as pd\n",
        "import seaborn as sns\n",
        "from matplotlib import pyplot as plt\n",
        "import missingno as msno\n",
        "from datetime import date\n",
        "from sklearn.metrics import accuracy_score\n",
        "from sklearn.model_selection import train_test_split\n",
        "from sklearn.neighbors import LocalOutlierFactor\n",
        "from sklearn.preprocessing import MinMaxScaler, LabelEncoder, StandardScaler, RobustScaler\n"
      ],
      "metadata": {
        "id": "w2g22-aTrH9W"
      },
      "execution_count": 25,
      "outputs": []
    },
    {
      "cell_type": "code",
      "source": [
        "def load_application_train():\n",
        "    data = pd.read_csv(\"application_train.csv\")\n",
        "    return data\n",
        "\n",
        "#See the shape of bigger dataset\n",
        "df = load_application_train()\n",
        "print(df.shape)\n",
        "\n",
        "def load():\n",
        "    data = pd.read_csv(\"titanic.csv\")\n",
        "    return data\n",
        "\n",
        "df = load()\n",
        "print(df.shape)       # (891, 12)\n",
        "\n",
        "\n",
        "sns.boxplot(x=df[\"Age\"])\n",
        "plt.show()"
      ],
      "metadata": {
        "id": "yI8iYOzXreb9",
        "outputId": "b44dc27b-f64d-4980-b44c-fb2fd396236e",
        "colab": {
          "base_uri": "https://localhost:8080/",
          "height": 485
        }
      },
      "execution_count": 26,
      "outputs": [
        {
          "output_type": "stream",
          "name": "stdout",
          "text": [
            "(168891, 122)\n",
            "(891, 12)\n"
          ]
        },
        {
          "output_type": "display_data",
          "data": {
            "text/plain": [
              "<Figure size 640x480 with 1 Axes>"
            ],
            "image/png": "[encoded data removed]"
          },
          "metadata": {}
        }
      ]
    },
    {
      "cell_type": "code",
      "source": [
        "q1 = df[\"Age\"].quantile(0.25)\n",
        "q3 = df[\"Age\"].quantile(0.75)\n",
        "iqr = q3 - q1\n",
        "up = q3 + 1.5 * iqr\n",
        "low = q1 - 1.5 * iqr\n",
        "\n",
        "#Now see outliers\n",
        "print(df[(df[\"Age\"] < low) | (df[\"Age\"] > up)])"
      ],
      "metadata": {
        "id": "vdRHIwLJsqzI",
        "outputId": "62159250-88ec-48b2-b895-6a9badb98af3",
        "colab": {
          "base_uri": "https://localhost:8080/"
        }
      },
      "execution_count": 27,
      "outputs": [
        {
          "output_type": "stream",
          "name": "stdout",
          "text": [
            "     PassengerId  Survived  Pclass                                  Name  \\\n",
            "33            34         0       2                 Wheadon, Mr. Edward H   \n",
            "54            55         0       1        Ostby, Mr. Engelhart Cornelius   \n",
            "96            97         0       1             Goldschmidt, Mr. George B   \n",
            "116          117         0       3                  Connors, Mr. Patrick   \n",
            "280          281         0       3                      Duane, Mr. Frank   \n",
            "456          457         0       1             Millet, Mr. Francis Davis   \n",
            "493          494         0       1               Artagaveytia, Mr. Ramon   \n",
            "630          631         1       1  Barkworth, Mr. Algernon Henry Wilson   \n",
            "672          673         0       2           Mitchell, Mr. Henry Michael   \n",
            "745          746         0       1          Crosby, Capt. Edward Gifford   \n",
            "851          852         0       3                   Svensson, Mr. Johan   \n",
            "\n",
            "      Sex   Age  SibSp  Parch      Ticket     Fare Cabin Embarked  \n",
            "33   male  66.0      0      0  C.A. 24579  10.5000   NaN        S  \n",
            "54   male  65.0      0      1      113509  61.9792   B30        C  \n",
            "96   male  71.0      0      0    PC 17754  34.6542    A5        C  \n",
            "116  male  70.5      0      0      370369   7.7500   NaN        Q  \n",
            "280  male  65.0      0      0      336439   7.7500   NaN        Q  \n",
            "456  male  65.0      0      0       13509  26.5500   E38        S  \n",
            "493  male  71.0      0      0    PC 17609  49.5042   NaN        C  \n",
            "630  male  80.0      0      0       27042  30.0000   A23        S  \n",
            "672  male  70.0      0      0  C.A. 24580  10.5000   NaN        S  \n",
            "745  male  70.0      1      1   WE/P 5735  71.0000   B22        S  \n",
            "851  male  74.0      0      0      347060   7.7750   NaN        S  \n"
          ]
        }
      ]
    },
    {
      "cell_type": "code",
      "source": [
        "\n",
        "print(df[(df[\"Age\"] < low) | (df[\"Age\"] > up)].index)\n",
        "print(df[(df[\"Age\"] < low) | (df[\"Age\"] > up)].any(axis=None))\n",
        "print(df[(df[\"Age\"] < low)].any(axis=None))"
      ],
      "metadata": {
        "id": "3S5G_hkEsulM",
        "outputId": "e5438bf9-51fb-4d19-f76c-1a20aa8fa306",
        "colab": {
          "base_uri": "https://localhost:8080/"
        }
      },
      "execution_count": 28,
      "outputs": [
        {
          "output_type": "stream",
          "name": "stdout",
          "text": [
            "Index([33, 54, 96, 116, 280, 456, 493, 630, 672, 745, 851], dtype='int64')\n",
            "True\n",
            "False\n"
          ]
        }
      ]
    },
    {
      "cell_type": "code",
      "source": [
        "def outlier_thresholds(dataframe, col_name, q1=0.25, q3=0.75):\n",
        "    quartile1 = dataframe[col_name].quantile(q1)\n",
        "    quartile3 = dataframe[col_name].quantile(q3)\n",
        "    interquantile_range = quartile3 - quartile1\n",
        "    up_limit = quartile3 + 1.5 * interquantile_range\n",
        "    low_limit = quartile1 - 1.5 * interquantile_range\n",
        "    return low_limit, up_limit\n",
        "\n",
        "\n",
        "\n",
        "\n",
        "print(outlier_thresholds(df, \"Age\"))\n",
        "\n",
        "\n",
        "\n",
        "low, up = outlier_thresholds(df, \"Fare\")\n",
        "print(df[(df[\"Fare\"] < low) | (df[\"Fare\"] > up)].head())"
      ],
      "metadata": {
        "id": "CQePfBhCtD8L",
        "outputId": "20b09065-6063-40e1-b38d-166a2890108d",
        "colab": {
          "base_uri": "https://localhost:8080/"
        }
      },
      "execution_count": 29,
      "outputs": [
        {
          "output_type": "stream",
          "name": "stdout",
          "text": [
            "(-6.6875, 64.8125)\n",
            "    PassengerId  Survived  Pclass  \\\n",
            "1             2         1       1   \n",
            "27           28         0       1   \n",
            "31           32         1       1   \n",
            "34           35         0       1   \n",
            "52           53         1       1   \n",
            "\n",
            "                                                 Name     Sex   Age  SibSp  \\\n",
            "1   Cumings, Mrs. John Bradley (Florence Briggs Th...  female  38.0      1   \n",
            "27                     Fortune, Mr. Charles Alexander    male  19.0      3   \n",
            "31     Spencer, Mrs. William Augustus (Marie Eugenie)  female   NaN      1   \n",
            "34                            Meyer, Mr. Edgar Joseph    male  28.0      1   \n",
            "52           Harper, Mrs. Henry Sleeper (Myna Haxtun)  female  49.0      1   \n",
            "\n",
            "    Parch    Ticket      Fare        Cabin Embarked  \n",
            "1       0  PC 17599   71.2833          C85        C  \n",
            "27      2     19950  263.0000  C23 C25 C27        S  \n",
            "31      0  PC 17569  146.5208          B78        C  \n",
            "34      0  PC 17604   82.1708          NaN        C  \n",
            "52      0  PC 17572   76.7292          D33        C  \n"
          ]
        }
      ]
    },
    {
      "cell_type": "code",
      "source": [
        "#Write a function that check if there is any outliers.\n",
        "def check_outlier(dataframe, col_name):\n",
        "    low_limit, up_limit = outlier_thresholds(dataframe, col_name)\n",
        "    if dataframe[(dataframe[col_name] > up_limit) | (dataframe[col_name] < low_limit)].any(axis=None):\n",
        "        return True\n",
        "    else:\n",
        "        return False\n",
        "\n",
        "print(check_outlier(df, \"Age\"))\n",
        "print(check_outlier(df, \"Fare\"))\n",
        "\n",
        "\n",
        "def grab_col_names(dataframe, cat_th=10, car_th=20):\n",
        "\n",
        "    cat_cols = [col for col in dataframe.columns if dataframe[col].dtypes == \"O\"]\n",
        "    num_but_cat = [col for col in dataframe.columns if dataframe[col].nunique() < cat_th and dataframe[col].dtypes != \"O\"]\n",
        "    cat_but_car = [col for col in dataframe.columns if dataframe[col].nunique() > car_th and dataframe[col].dtypes == \"O\"]\n",
        "    cat_cols = cat_cols + num_but_cat\n",
        "    cat_cols = [col for col in cat_cols if col not in cat_but_car]\n",
        "    num_cols = [col for col in dataframe.columns if dataframe[col].dtypes != \"O\" and col not in num_but_cat]\n",
        "\n",
        "    print(f\"Observations: {dataframe.shape[0]}\")\n",
        "    print(f\"Variables: {dataframe.shape[1]}\")\n",
        "    print(f\"cat_cols: {len(cat_cols)}\")\n",
        "    print(f\"num_cols: {len(num_cols)}\")\n",
        "    print(f\"cat_but_car: {len(cat_but_car)}\")\n",
        "    print(f\"num_but_cat: {len(num_but_cat)}\")\n",
        "\n",
        "    return cat_cols, num_cols, cat_but_car\n",
        "\n",
        "\n",
        "\n",
        "\n",
        "cat_cols, num_cols, cat_but_car = grab_col_names(df)"
      ],
      "metadata": {
        "id": "RAmU9HHotMC0",
        "outputId": "110f16c0-2678-462b-aea1-e0ff7c325691",
        "colab": {
          "base_uri": "https://localhost:8080/"
        }
      },
      "execution_count": 30,
      "outputs": [
        {
          "output_type": "stream",
          "name": "stdout",
          "text": [
            "True\n",
            "True\n",
            "Observations: 891\n",
            "Variables: 12\n",
            "cat_cols: 6\n",
            "num_cols: 3\n",
            "cat_but_car: 3\n",
            "num_but_cat: 4\n"
          ]
        }
      ]
    },
    {
      "cell_type": "code",
      "source": [
        "num_cols = [col for col in num_cols if col not in \"PassengerId\"]\n",
        "print(num_cols)\n",
        "\n",
        "\n",
        "\n",
        "#We will check outliers in numerical columns.\n",
        "for col in num_cols:\n",
        "    print(col, check_outlier(df, col))"
      ],
      "metadata": {
        "id": "ZzZdAUrrtsUL",
        "outputId": "a1a9a489-73de-44de-fb03-4d95e4b2bc6b",
        "colab": {
          "base_uri": "https://localhost:8080/"
        }
      },
      "execution_count": 31,
      "outputs": [
        {
          "output_type": "stream",
          "name": "stdout",
          "text": [
            "['Age', 'Fare']\n",
            "Age True\n",
            "Fare True\n"
          ]
        }
      ]
    },
    {
      "cell_type": "code",
      "source": [
        "#import application_train.csv\n",
        "dff = load_application_train()\n",
        "\n",
        "cat_cols, num_cols, cat_but_car = grab_col_names(dff)"
      ],
      "metadata": {
        "id": "Vi0m9ENktwCg",
        "outputId": "700bf317-05a6-4c0f-8e32-b783e21200a4",
        "colab": {
          "base_uri": "https://localhost:8080/"
        }
      },
      "execution_count": 32,
      "outputs": [
        {
          "output_type": "stream",
          "name": "stdout",
          "text": [
            "Observations: 168891\n",
            "Variables: 122\n",
            "cat_cols: 56\n",
            "num_cols: 65\n",
            "cat_but_car: 1\n",
            "num_but_cat: 41\n"
          ]
        }
      ]
    },
    {
      "cell_type": "code",
      "source": [
        "\n",
        "num_cols.remove('SK_ID_CURR')\n",
        "\n",
        "print()\n",
        "print()\n",
        "\n",
        "#Let's see which numerical columns have outliers.\n",
        "for col in num_cols:\n",
        "    print(col, check_outlier(dff, col))\n"
      ],
      "metadata": {
        "id": "K12TSpSWt3Qt",
        "outputId": "52cbd808-e0ef-4d33-e762-ff646e690ff2",
        "colab": {
          "base_uri": "https://localhost:8080/"
        }
      },
      "execution_count": 33,
      "outputs": [
        {
          "output_type": "stream",
          "name": "stdout",
          "text": [
            "\n",
            "\n",
            "CNT_CHILDREN True\n",
            "AMT_INCOME_TOTAL True\n",
            "AMT_CREDIT True\n",
            "AMT_ANNUITY True\n",
            "AMT_GOODS_PRICE True\n",
            "REGION_POPULATION_RELATIVE True\n",
            "DAYS_BIRTH False\n",
            "DAYS_EMPLOYED True\n",
            "DAYS_REGISTRATION True\n",
            "DAYS_ID_PUBLISH False\n",
            "OWN_CAR_AGE True\n",
            "CNT_FAM_MEMBERS True\n",
            "HOUR_APPR_PROCESS_START True\n",
            "EXT_SOURCE_1 False\n",
            "EXT_SOURCE_2 False\n",
            "EXT_SOURCE_3 False\n",
            "APARTMENTS_AVG True\n",
            "BASEMENTAREA_AVG True\n",
            "YEARS_BEGINEXPLUATATION_AVG True\n",
            "YEARS_BUILD_AVG True\n",
            "COMMONAREA_AVG True\n",
            "ELEVATORS_AVG True\n",
            "ENTRANCES_AVG True\n",
            "FLOORSMAX_AVG True\n",
            "FLOORSMIN_AVG True\n",
            "LANDAREA_AVG True\n",
            "LIVINGAPARTMENTS_AVG True\n",
            "LIVINGAREA_AVG True\n",
            "NONLIVINGAPARTMENTS_AVG True\n",
            "NONLIVINGAREA_AVG True\n",
            "APARTMENTS_MODE True\n",
            "BASEMENTAREA_MODE True\n",
            "YEARS_BEGINEXPLUATATION_MODE True\n",
            "YEARS_BUILD_MODE True\n",
            "COMMONAREA_MODE True\n",
            "ELEVATORS_MODE True\n",
            "ENTRANCES_MODE True\n",
            "FLOORSMAX_MODE True\n",
            "FLOORSMIN_MODE True\n",
            "LANDAREA_MODE True\n",
            "LIVINGAPARTMENTS_MODE True\n",
            "LIVINGAREA_MODE True\n",
            "NONLIVINGAPARTMENTS_MODE True\n",
            "NONLIVINGAREA_MODE True\n",
            "APARTMENTS_MEDI True\n",
            "BASEMENTAREA_MEDI True\n",
            "YEARS_BEGINEXPLUATATION_MEDI True\n",
            "YEARS_BUILD_MEDI True\n",
            "COMMONAREA_MEDI True\n",
            "ELEVATORS_MEDI True\n",
            "ENTRANCES_MEDI True\n",
            "FLOORSMAX_MEDI True\n",
            "FLOORSMIN_MEDI True\n",
            "LANDAREA_MEDI True\n",
            "LIVINGAPARTMENTS_MEDI True\n",
            "LIVINGAREA_MEDI True\n",
            "NONLIVINGAPARTMENTS_MEDI True\n",
            "NONLIVINGAREA_MEDI True\n",
            "TOTALAREA_MODE True\n",
            "OBS_30_CNT_SOCIAL_CIRCLE True\n",
            "OBS_60_CNT_SOCIAL_CIRCLE True\n",
            "DAYS_LAST_PHONE_CHANGE True\n",
            "AMT_REQ_CREDIT_BUREAU_MON True\n",
            "AMT_REQ_CREDIT_BUREAU_YEAR True\n"
          ]
        }
      ]
    },
    {
      "cell_type": "code",
      "source": [
        "#The function below will show us the outlier values for the associated column.\n",
        "#If there are outliers more than 10, it will only show us first 5 (f = 5) outliers.\n",
        "#Otherwise, it will show all outliers.\n",
        "\n",
        "def grab_outliers(dataframe, col_name, outlier_index=False, f = 5):\n",
        "    low, up = outlier_thresholds(dataframe, col_name)\n",
        "\n",
        "    if dataframe[((dataframe[col_name] < low) | (dataframe[col_name] > up))].shape[0] > 10:\n",
        "        print(dataframe[((dataframe[col_name] < low) | (dataframe[col_name] > up))].head(f))\n",
        "    else:\n",
        "        print(dataframe[((dataframe[col_name] < low) | (dataframe[col_name] > up))])\n",
        "\n",
        "    if outlier_index:\n",
        "        out_index = dataframe[((dataframe[col_name] < low) | (dataframe[col_name] > up))].index\n",
        "        return out_index\n",
        "\n",
        "age_index = grab_outliers(df, \"Age\", True)"
      ],
      "metadata": {
        "id": "X5UBcunbuCRJ",
        "outputId": "e079f3f4-1a2e-47d9-d0d8-210f8b9fcb68",
        "colab": {
          "base_uri": "https://localhost:8080/"
        }
      },
      "execution_count": 34,
      "outputs": [
        {
          "output_type": "stream",
          "name": "stdout",
          "text": [
            "     PassengerId  Survived  Pclass                            Name   Sex  \\\n",
            "33            34         0       2           Wheadon, Mr. Edward H  male   \n",
            "54            55         0       1  Ostby, Mr. Engelhart Cornelius  male   \n",
            "96            97         0       1       Goldschmidt, Mr. George B  male   \n",
            "116          117         0       3            Connors, Mr. Patrick  male   \n",
            "280          281         0       3                Duane, Mr. Frank  male   \n",
            "\n",
            "      Age  SibSp  Parch      Ticket     Fare Cabin Embarked  \n",
            "33   66.0      0      0  C.A. 24579  10.5000   NaN        S  \n",
            "54   65.0      0      1      113509  61.9792   B30        C  \n",
            "96   71.0      0      0    PC 17754  34.6542    A5        C  \n",
            "116  70.5      0      0      370369   7.7500   NaN        Q  \n",
            "280  65.0      0      0      336439   7.7500   NaN        Q  \n"
          ]
        }
      ]
    },
    {
      "cell_type": "code",
      "source": [
        "#Now see the index of outliers...\n",
        "print(age_index)"
      ],
      "metadata": {
        "id": "IWETtJ6PuN0J",
        "outputId": "e1106290-e5e7-48e9-faf9-f74345ab20cb",
        "colab": {
          "base_uri": "https://localhost:8080/"
        }
      },
      "execution_count": 35,
      "outputs": [
        {
          "output_type": "stream",
          "name": "stdout",
          "text": [
            "Index([33, 54, 96, 116, 280, 456, 493, 630, 672, 745, 851], dtype='int64')\n"
          ]
        }
      ]
    },
    {
      "cell_type": "code",
      "source": [
        "#import titanic data.\n",
        "df = load()\n",
        "\n",
        "#Remove Outliers..\n",
        "\n",
        "low, up = outlier_thresholds(df, \"Fare\")\n",
        "\n",
        "#Shape of data with outliers\n",
        "print(df.shape)\n",
        "print(df[~((df[\"Fare\"] < low) | (df[\"Fare\"] > up))].shape) #(775,12)"
      ],
      "metadata": {
        "id": "8FjBMS-zuS4w",
        "outputId": "e0cb34fc-117b-46a1-ef04-cad94cccb714",
        "colab": {
          "base_uri": "https://localhost:8080/"
        }
      },
      "execution_count": 36,
      "outputs": [
        {
          "output_type": "stream",
          "name": "stdout",
          "text": [
            "(891, 12)\n",
            "(775, 12)\n"
          ]
        }
      ]
    },
    {
      "cell_type": "code",
      "source": [
        "\n",
        "def remove_outlier(dataframe, col_name):\n",
        "    low_limit, up_limit = outlier_thresholds(dataframe, col_name)\n",
        "    df_without_outliers = dataframe[~((dataframe[col_name] < low_limit) | (dataframe[col_name] > up_limit))]\n",
        "    return df_without_outliers\n",
        "\n",
        "cat_cols, num_cols, cat_but_car = grab_col_names(df)"
      ],
      "metadata": {
        "id": "BytRG0AgunuU",
        "outputId": "214555c2-64ad-492a-9886-07ff05f89fc2",
        "colab": {
          "base_uri": "https://localhost:8080/"
        }
      },
      "execution_count": 37,
      "outputs": [
        {
          "output_type": "stream",
          "name": "stdout",
          "text": [
            "Observations: 891\n",
            "Variables: 12\n",
            "cat_cols: 6\n",
            "num_cols: 3\n",
            "cat_but_car: 3\n",
            "num_but_cat: 4\n"
          ]
        }
      ]
    },
    {
      "cell_type": "code",
      "source": [
        "num_cols.remove('PassengerId')\n",
        "\n",
        "for col in num_cols:\n",
        "    df = remove_outlier(df,col)"
      ],
      "metadata": {
        "id": "4hzrphYXuwKA"
      },
      "execution_count": 38,
      "outputs": []
    },
    {
      "cell_type": "code",
      "source": [
        "#Now we removed 'Age' outliers and 'Fare' outliers. Age has 10 outliers and Fare has 116 outliers,\n",
        "#therefore we removed 126 outliers.\n",
        "print(df.shape) # (765,12)\n"
      ],
      "metadata": {
        "id": "z8zZQksYuxl0",
        "outputId": "f7c83a35-92ab-4787-db75-76a0d6168ed1",
        "colab": {
          "base_uri": "https://localhost:8080/"
        }
      },
      "execution_count": 39,
      "outputs": [
        {
          "output_type": "stream",
          "name": "stdout",
          "text": [
            "(765, 12)\n"
          ]
        }
      ]
    },
    {
      "cell_type": "code",
      "source": [
        "##Now we will assign outliers with thresholds. We can write a function for this\n",
        "def replace_with_thresholds(dataframe, variable):\n",
        "    low_limit, up_limit = outlier_thresholds(dataframe, variable)\n",
        "    dataframe.loc[(dataframe[variable] < low_limit), variable] = low_limit\n",
        "    dataframe.loc[(dataframe[variable] > up_limit), variable] = up_limit\n",
        "#Import titanic data.\n",
        "df = load()\n",
        "\n",
        "cat_cols, num_cols, cat_but_car = grab_col_names(df)"
      ],
      "metadata": {
        "id": "4zAEpGBau2qv",
        "outputId": "f05751d7-d857-450d-926f-4916062877a7",
        "colab": {
          "base_uri": "https://localhost:8080/"
        }
      },
      "execution_count": 40,
      "outputs": [
        {
          "output_type": "stream",
          "name": "stdout",
          "text": [
            "Observations: 891\n",
            "Variables: 12\n",
            "cat_cols: 6\n",
            "num_cols: 3\n",
            "cat_but_car: 3\n",
            "num_but_cat: 4\n"
          ]
        }
      ]
    },
    {
      "cell_type": "code",
      "source": [
        "num_cols.remove('PassengerId')\n"
      ],
      "metadata": {
        "id": "S_O5w43ZvA1W"
      },
      "execution_count": 41,
      "outputs": []
    },
    {
      "cell_type": "code",
      "source": [
        "\n",
        "for col in num_cols:\n",
        "    print(col, check_outlier(df, col))"
      ],
      "metadata": {
        "id": "ssW_0l7OvLHM",
        "outputId": "ccbc501d-173d-4077-ab1c-31e1522bc911",
        "colab": {
          "base_uri": "https://localhost:8080/"
        }
      },
      "execution_count": 42,
      "outputs": [
        {
          "output_type": "stream",
          "name": "stdout",
          "text": [
            "Age True\n",
            "Fare True\n"
          ]
        }
      ]
    },
    {
      "cell_type": "code",
      "source": [
        "#Now replace these outliers with thresholds.\n",
        "for col in num_cols:\n",
        "    replace_with_thresholds(df, col)\n",
        "\n",
        "\n",
        "\n",
        "#After replacing, we shouldn't have any outlier. So let's check again.\n",
        "for col in num_cols:\n",
        "    print(col, check_outlier(df, col))"
      ],
      "metadata": {
        "id": "fr5e24FivPLa",
        "outputId": "8a552864-9f44-4965-db89-be21f4a3d74e",
        "colab": {
          "base_uri": "https://localhost:8080/"
        }
      },
      "execution_count": 43,
      "outputs": [
        {
          "output_type": "stream",
          "name": "stdout",
          "text": [
            "Age False\n",
            "Fare False\n"
          ]
        }
      ]
    },
    {
      "cell_type": "code",
      "source": [],
      "metadata": {
        "id": "zKLYXWsevSse"
      },
      "execution_count": 43,
      "outputs": []
    }
  ],
  "metadata": {
    "colab": {
      "name": "Welcome To Colab",
      "provenance": [],
      "include_colab_link": true
    },
    "kernelspec": {
      "display_name": "Python 3",
      "name": "python3"
    }
  },
  "nbformat": 4,
  "nbformat_minor": 0
}